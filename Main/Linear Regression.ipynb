{
 "cells": [
  {
   "cell_type": "markdown",
   "metadata": {},
   "source": [
    "## Importing Libraries"
   ]
  },
  {
   "cell_type": "code",
   "execution_count": 1,
   "metadata": {},
   "outputs": [],
   "source": [
    "import pandas as pd\n",
    "import numpy as np\n",
    "import seaborn as sns"
   ]
  },
  {
   "cell_type": "markdown",
   "metadata": {},
   "source": [
    "## Importing the data"
   ]
  },
  {
   "cell_type": "code",
   "execution_count": 2,
   "metadata": {},
   "outputs": [
    {
     "name": "stdout",
     "output_type": "stream",
     "text": [
      "<class 'pandas.core.frame.DataFrame'>\n",
      "Index: 88800 entries, 0 to 88799\n",
      "Data columns (total 11 columns):\n",
      " #   Column        Non-Null Count  Dtype  \n",
      "---  ------        --------------  -----  \n",
      " 0   URL           88800 non-null  object \n",
      " 1   Titles        88800 non-null  object \n",
      " 2   Price         87553 non-null  float64\n",
      " 3   Location      88800 non-null  object \n",
      " 4   Rooms         88800 non-null  int64  \n",
      " 5   Areas         88800 non-null  float64\n",
      " 6   Bathrooms     88800 non-null  int64  \n",
      " 7   Listing Type  61076 non-null  object \n",
      " 8   Neighborhood  88800 non-null  object \n",
      " 9   City          88373 non-null  object \n",
      " 10  State         58610 non-null  object \n",
      "dtypes: float64(2), int64(2), object(7)\n",
      "memory usage: 8.1+ MB\n"
     ]
    }
   ],
   "source": [
    "df = pd.read_csv(\"Files/data.csv\", index_col=0)\n",
    "df.info()"
   ]
  },
  {
   "cell_type": "markdown",
   "metadata": {},
   "source": [
    "## Data cleaning & adding features"
   ]
  },
  {
   "cell_type": "markdown",
   "metadata": {},
   "source": [
    "**Data cleaning**"
   ]
  },
  {
   "cell_type": "code",
   "execution_count": 3,
   "metadata": {},
   "outputs": [
    {
     "name": "stdout",
     "output_type": "stream",
     "text": [
      "<class 'pandas.core.frame.DataFrame'>\n",
      "Index: 81350 entries, 1 to 88799\n",
      "Data columns (total 8 columns):\n",
      " #   Column        Non-Null Count  Dtype  \n",
      "---  ------        --------------  -----  \n",
      " 0   Price         81350 non-null  float64\n",
      " 1   Rooms         81350 non-null  int64  \n",
      " 2   Areas         81350 non-null  float64\n",
      " 3   Bathrooms     81350 non-null  int64  \n",
      " 4   Listing Type  55616 non-null  object \n",
      " 5   Neighborhood  81350 non-null  object \n",
      " 6   City          80943 non-null  object \n",
      " 7   State         55071 non-null  object \n",
      "dtypes: float64(2), int64(2), object(4)\n",
      "memory usage: 5.6+ MB\n"
     ]
    }
   ],
   "source": [
    "# Drop the specified columns from the DataFrame\n",
    "df = df.drop(columns=[\"URL\", \"Titles\", \"Location\"])\n",
    "\n",
    "# Drop rows with missing values in the \"Price\" column\n",
    "df.dropna(subset=[\"Price\"], inplace=True)\n",
    "\n",
    "# Drop rows with prices over 800,000 and less than 10000\n",
    "df = df[(df['Price'] <= 800000) & (df['Price'] >= 10000)]\n",
    "\n",
    "# Drop rows with areas over 400 and less than 5\n",
    "df = df[(df['Areas'] <= 400) & (df['Areas'] >= 5)]\n",
    "\n",
    "# Display the DataFrame info after dropping the columns\n",
    "df.info()\n"
   ]
  },
  {
   "cell_type": "markdown",
   "metadata": {},
   "source": [
    "**Adding features**"
   ]
  },
  {
   "cell_type": "code",
   "execution_count": 4,
   "metadata": {},
   "outputs": [],
   "source": [
    "# Create the Price per square meter feature\n",
    "df['Price_per_Square_Meter'] = (df['Price'] / df['Areas']).round(2)\n",
    "\n",
    "# Create the Square meter per room feature\n",
    "df['Square_Meter_per_Room'] = ((df['Areas'] / df['Rooms']).replace([np.inf, -np.inf], np.nan)).round(2)\n",
    "\n",
    "# Create the Square meter per bathroom feature\n",
    "df['Square_Meter_per_Bathroom'] = ((df['Areas'] / df['Bathrooms']).replace([np.inf, -np.inf], np.nan)).round(2)\n",
    "\n",
    "# Replace NaN values with 0 in the 'Square_Meter_per_Room' and 'Square_Meter_per_Bathroom' columns\n",
    "df['Square_Meter_per_Room'].fillna(0, inplace=True)\n",
    "df['Square_Meter_per_Bathroom'].fillna(0, inplace=True)"
   ]
  },
  {
   "cell_type": "code",
   "execution_count": 5,
   "metadata": {},
   "outputs": [
    {
     "name": "stdout",
     "output_type": "stream",
     "text": [
      "<class 'pandas.core.frame.DataFrame'>\n",
      "Index: 81350 entries, 1 to 88799\n",
      "Data columns (total 11 columns):\n",
      " #   Column                     Non-Null Count  Dtype  \n",
      "---  ------                     --------------  -----  \n",
      " 0   Price                      81350 non-null  float64\n",
      " 1   Rooms                      81350 non-null  int64  \n",
      " 2   Areas                      81350 non-null  float64\n",
      " 3   Bathrooms                  81350 non-null  int64  \n",
      " 4   Listing Type               55616 non-null  object \n",
      " 5   Neighborhood               81350 non-null  object \n",
      " 6   City                       80943 non-null  object \n",
      " 7   State                      55071 non-null  object \n",
      " 8   Price_per_Square_Meter     81350 non-null  float64\n",
      " 9   Square_Meter_per_Room      81350 non-null  float64\n",
      " 10  Square_Meter_per_Bathroom  81350 non-null  float64\n",
      "dtypes: float64(5), int64(2), object(4)\n",
      "memory usage: 7.4+ MB\n"
     ]
    }
   ],
   "source": [
    "df.info()"
   ]
  },
  {
   "cell_type": "markdown",
   "metadata": {},
   "source": [
    "## Hot-enconde and dummies"
   ]
  },
  {
   "cell_type": "code",
   "execution_count": 6,
   "metadata": {},
   "outputs": [
    {
     "name": "stdout",
     "output_type": "stream",
     "text": [
      "<class 'pandas.core.frame.DataFrame'>\n",
      "Index: 81350 entries, 1 to 88799\n",
      "Data columns (total 15 columns):\n",
      " #   Column                       Non-Null Count  Dtype  \n",
      "---  ------                       --------------  -----  \n",
      " 0   Price                        81350 non-null  float64\n",
      " 1   Rooms                        81350 non-null  int64  \n",
      " 2   Areas                        81350 non-null  float64\n",
      " 3   Bathrooms                    81350 non-null  int64  \n",
      " 4   Price_per_Square_Meter       81350 non-null  float64\n",
      " 5   Square_Meter_per_Room        81350 non-null  float64\n",
      " 6   Square_Meter_per_Bathroom    81350 non-null  float64\n",
      " 7   Listing Type_Em construção   81350 non-null  bool   \n",
      " 8   Listing Type_Novo            81350 non-null  bool   \n",
      " 9   Listing Type_Para recuperar  81350 non-null  bool   \n",
      " 10  Listing Type_Ruína           81350 non-null  bool   \n",
      " 11  Listing Type_Usado           81350 non-null  bool   \n",
      " 12  Neighborhood_Encoded         81350 non-null  float64\n",
      " 13  City_Encoded                 80943 non-null  float64\n",
      " 14  State_Encoded                55071 non-null  float64\n",
      "dtypes: bool(5), float64(8), int64(2)\n",
      "memory usage: 7.2 MB\n"
     ]
    }
   ],
   "source": [
    "from sklearn.preprocessing import LabelEncoder\n",
    "\n",
    "# Fill missing Listing Type with 'Usado' (used)\n",
    "df['Listing Type'].fillna('Usado', inplace=True)\n",
    "\n",
    "# Perform one-hot encoding using get_dummies\n",
    "df = pd.get_dummies(df, columns=['Listing Type'])\n",
    "\n",
    "# Calculate target means for Neighborhood, City, and State\n",
    "neighborhood_means = df.groupby('Neighborhood')['Price'].mean()\n",
    "city_means = df.groupby('City')['Price'].mean()\n",
    "state_means = df.groupby('State')['Price'].mean()\n",
    "\n",
    "# Map the means to the respective columns\n",
    "df['Neighborhood_Encoded'] = df['Neighborhood'].map(neighborhood_means).round(2)\n",
    "df['City_Encoded'] = df['City'].map(city_means).round(2)\n",
    "df['State_Encoded'] = df['State'].map(state_means).round(2)\n",
    "\n",
    "# Drop the original columns\n",
    "df.drop(columns=['Neighborhood', 'City', 'State'], inplace=True)\n",
    "\n",
    "df.info()"
   ]
  },
  {
   "cell_type": "code",
   "execution_count": 7,
   "metadata": {},
   "outputs": [
    {
     "data": {
      "text/html": [
       "<div>\n",
       "<style scoped>\n",
       "    .dataframe tbody tr th:only-of-type {\n",
       "        vertical-align: middle;\n",
       "    }\n",
       "\n",
       "    .dataframe tbody tr th {\n",
       "        vertical-align: top;\n",
       "    }\n",
       "\n",
       "    .dataframe thead th {\n",
       "        text-align: right;\n",
       "    }\n",
       "</style>\n",
       "<table border=\"1\" class=\"dataframe\">\n",
       "  <thead>\n",
       "    <tr style=\"text-align: right;\">\n",
       "      <th></th>\n",
       "      <th>Price</th>\n",
       "      <th>Rooms</th>\n",
       "      <th>Areas</th>\n",
       "      <th>Bathrooms</th>\n",
       "      <th>Price_per_Square_Meter</th>\n",
       "      <th>Square_Meter_per_Room</th>\n",
       "      <th>Square_Meter_per_Bathroom</th>\n",
       "      <th>Listing Type_Em construção</th>\n",
       "      <th>Listing Type_Novo</th>\n",
       "      <th>Listing Type_Para recuperar</th>\n",
       "      <th>Listing Type_Ruína</th>\n",
       "      <th>Listing Type_Usado</th>\n",
       "      <th>Neighborhood_Encoded</th>\n",
       "      <th>City_Encoded</th>\n",
       "      <th>State_Encoded</th>\n",
       "    </tr>\n",
       "  </thead>\n",
       "  <tbody>\n",
       "    <tr>\n",
       "      <th>1</th>\n",
       "      <td>365000.0</td>\n",
       "      <td>2</td>\n",
       "      <td>48.0</td>\n",
       "      <td>2</td>\n",
       "      <td>7604.17</td>\n",
       "      <td>24.00</td>\n",
       "      <td>24.0</td>\n",
       "      <td>False</td>\n",
       "      <td>False</td>\n",
       "      <td>False</td>\n",
       "      <td>False</td>\n",
       "      <td>True</td>\n",
       "      <td>537515.90</td>\n",
       "      <td>445070.89</td>\n",
       "      <td>NaN</td>\n",
       "    </tr>\n",
       "    <tr>\n",
       "      <th>2</th>\n",
       "      <td>299900.0</td>\n",
       "      <td>1</td>\n",
       "      <td>51.0</td>\n",
       "      <td>1</td>\n",
       "      <td>5880.39</td>\n",
       "      <td>51.00</td>\n",
       "      <td>51.0</td>\n",
       "      <td>False</td>\n",
       "      <td>False</td>\n",
       "      <td>False</td>\n",
       "      <td>False</td>\n",
       "      <td>True</td>\n",
       "      <td>344659.19</td>\n",
       "      <td>445070.89</td>\n",
       "      <td>NaN</td>\n",
       "    </tr>\n",
       "    <tr>\n",
       "      <th>3</th>\n",
       "      <td>550000.0</td>\n",
       "      <td>1</td>\n",
       "      <td>84.0</td>\n",
       "      <td>2</td>\n",
       "      <td>6547.62</td>\n",
       "      <td>84.00</td>\n",
       "      <td>42.0</td>\n",
       "      <td>False</td>\n",
       "      <td>False</td>\n",
       "      <td>False</td>\n",
       "      <td>False</td>\n",
       "      <td>True</td>\n",
       "      <td>343139.37</td>\n",
       "      <td>445070.89</td>\n",
       "      <td>NaN</td>\n",
       "    </tr>\n",
       "    <tr>\n",
       "      <th>4</th>\n",
       "      <td>725000.0</td>\n",
       "      <td>3</td>\n",
       "      <td>114.0</td>\n",
       "      <td>2</td>\n",
       "      <td>6359.65</td>\n",
       "      <td>38.00</td>\n",
       "      <td>57.0</td>\n",
       "      <td>False</td>\n",
       "      <td>False</td>\n",
       "      <td>False</td>\n",
       "      <td>False</td>\n",
       "      <td>True</td>\n",
       "      <td>472983.19</td>\n",
       "      <td>445070.89</td>\n",
       "      <td>NaN</td>\n",
       "    </tr>\n",
       "    <tr>\n",
       "      <th>5</th>\n",
       "      <td>300000.0</td>\n",
       "      <td>3</td>\n",
       "      <td>98.0</td>\n",
       "      <td>2</td>\n",
       "      <td>3061.22</td>\n",
       "      <td>32.67</td>\n",
       "      <td>49.0</td>\n",
       "      <td>False</td>\n",
       "      <td>False</td>\n",
       "      <td>False</td>\n",
       "      <td>False</td>\n",
       "      <td>True</td>\n",
       "      <td>406088.67</td>\n",
       "      <td>466002.38</td>\n",
       "      <td>307418.37</td>\n",
       "    </tr>\n",
       "  </tbody>\n",
       "</table>\n",
       "</div>"
      ],
      "text/plain": [
       "      Price  Rooms  Areas  Bathrooms  Price_per_Square_Meter  \\\n",
       "1  365000.0      2   48.0          2                 7604.17   \n",
       "2  299900.0      1   51.0          1                 5880.39   \n",
       "3  550000.0      1   84.0          2                 6547.62   \n",
       "4  725000.0      3  114.0          2                 6359.65   \n",
       "5  300000.0      3   98.0          2                 3061.22   \n",
       "\n",
       "   Square_Meter_per_Room  Square_Meter_per_Bathroom  \\\n",
       "1                  24.00                       24.0   \n",
       "2                  51.00                       51.0   \n",
       "3                  84.00                       42.0   \n",
       "4                  38.00                       57.0   \n",
       "5                  32.67                       49.0   \n",
       "\n",
       "   Listing Type_Em construção  Listing Type_Novo  Listing Type_Para recuperar  \\\n",
       "1                       False              False                        False   \n",
       "2                       False              False                        False   \n",
       "3                       False              False                        False   \n",
       "4                       False              False                        False   \n",
       "5                       False              False                        False   \n",
       "\n",
       "   Listing Type_Ruína  Listing Type_Usado  Neighborhood_Encoded  City_Encoded  \\\n",
       "1               False                True             537515.90     445070.89   \n",
       "2               False                True             344659.19     445070.89   \n",
       "3               False                True             343139.37     445070.89   \n",
       "4               False                True             472983.19     445070.89   \n",
       "5               False                True             406088.67     466002.38   \n",
       "\n",
       "   State_Encoded  \n",
       "1            NaN  \n",
       "2            NaN  \n",
       "3            NaN  \n",
       "4            NaN  \n",
       "5      307418.37  "
      ]
     },
     "execution_count": 7,
     "metadata": {},
     "output_type": "execute_result"
    }
   ],
   "source": [
    "df.head(5)"
   ]
  },
  {
   "cell_type": "code",
   "execution_count": 8,
   "metadata": {},
   "outputs": [
    {
     "data": {
      "text/html": [
       "<div>\n",
       "<style scoped>\n",
       "    .dataframe tbody tr th:only-of-type {\n",
       "        vertical-align: middle;\n",
       "    }\n",
       "\n",
       "    .dataframe tbody tr th {\n",
       "        vertical-align: top;\n",
       "    }\n",
       "\n",
       "    .dataframe thead th {\n",
       "        text-align: right;\n",
       "    }\n",
       "</style>\n",
       "<table border=\"1\" class=\"dataframe\">\n",
       "  <thead>\n",
       "    <tr style=\"text-align: right;\">\n",
       "      <th></th>\n",
       "      <th>Price</th>\n",
       "      <th>Rooms</th>\n",
       "      <th>Areas</th>\n",
       "      <th>Bathrooms</th>\n",
       "      <th>Price_per_Square_Meter</th>\n",
       "      <th>Square_Meter_per_Room</th>\n",
       "      <th>Square_Meter_per_Bathroom</th>\n",
       "      <th>Neighborhood_Encoded</th>\n",
       "      <th>City_Encoded</th>\n",
       "      <th>State_Encoded</th>\n",
       "    </tr>\n",
       "  </thead>\n",
       "  <tbody>\n",
       "    <tr>\n",
       "      <th>count</th>\n",
       "      <td>81350.000000</td>\n",
       "      <td>81350.000000</td>\n",
       "      <td>81350.000000</td>\n",
       "      <td>81350.000000</td>\n",
       "      <td>81350.000000</td>\n",
       "      <td>81350.000000</td>\n",
       "      <td>81350.000000</td>\n",
       "      <td>81350.000000</td>\n",
       "      <td>80943.000000</td>\n",
       "      <td>55071.000000</td>\n",
       "    </tr>\n",
       "    <tr>\n",
       "      <th>mean</th>\n",
       "      <td>315448.252932</td>\n",
       "      <td>2.261930</td>\n",
       "      <td>101.037516</td>\n",
       "      <td>1.677357</td>\n",
       "      <td>3378.611770</td>\n",
       "      <td>44.112587</td>\n",
       "      <td>52.560266</td>\n",
       "      <td>315448.253024</td>\n",
       "      <td>315842.812253</td>\n",
       "      <td>298953.846133</td>\n",
       "    </tr>\n",
       "    <tr>\n",
       "      <th>std</th>\n",
       "      <td>156434.216393</td>\n",
       "      <td>0.969883</td>\n",
       "      <td>40.877139</td>\n",
       "      <td>0.909429</td>\n",
       "      <td>1747.452319</td>\n",
       "      <td>16.869128</td>\n",
       "      <td>25.727120</td>\n",
       "      <td>100132.917686</td>\n",
       "      <td>86608.944048</td>\n",
       "      <td>48225.371988</td>\n",
       "    </tr>\n",
       "    <tr>\n",
       "      <th>min</th>\n",
       "      <td>10000.000000</td>\n",
       "      <td>0.000000</td>\n",
       "      <td>5.000000</td>\n",
       "      <td>0.000000</td>\n",
       "      <td>109.760000</td>\n",
       "      <td>0.000000</td>\n",
       "      <td>0.000000</td>\n",
       "      <td>17600.000000</td>\n",
       "      <td>23000.000000</td>\n",
       "      <td>98532.130000</td>\n",
       "    </tr>\n",
       "    <tr>\n",
       "      <th>25%</th>\n",
       "      <td>195000.000000</td>\n",
       "      <td>2.000000</td>\n",
       "      <td>72.000000</td>\n",
       "      <td>1.000000</td>\n",
       "      <td>2205.880000</td>\n",
       "      <td>35.800000</td>\n",
       "      <td>41.050000</td>\n",
       "      <td>234044.130000</td>\n",
       "      <td>239283.240000</td>\n",
       "      <td>273228.830000</td>\n",
       "    </tr>\n",
       "    <tr>\n",
       "      <th>50%</th>\n",
       "      <td>278000.000000</td>\n",
       "      <td>2.000000</td>\n",
       "      <td>96.000000</td>\n",
       "      <td>2.000000</td>\n",
       "      <td>2993.770000</td>\n",
       "      <td>43.000000</td>\n",
       "      <td>51.670000</td>\n",
       "      <td>302641.450000</td>\n",
       "      <td>331113.490000</td>\n",
       "      <td>307418.370000</td>\n",
       "    </tr>\n",
       "    <tr>\n",
       "      <th>75%</th>\n",
       "      <td>399900.000000</td>\n",
       "      <td>3.000000</td>\n",
       "      <td>124.000000</td>\n",
       "      <td>2.000000</td>\n",
       "      <td>4128.577500</td>\n",
       "      <td>51.500000</td>\n",
       "      <td>65.090000</td>\n",
       "      <td>392713.330000</td>\n",
       "      <td>366452.560000</td>\n",
       "      <td>318629.790000</td>\n",
       "    </tr>\n",
       "    <tr>\n",
       "      <th>max</th>\n",
       "      <td>800000.000000</td>\n",
       "      <td>10.000000</td>\n",
       "      <td>400.000000</td>\n",
       "      <td>4.000000</td>\n",
       "      <td>56000.000000</td>\n",
       "      <td>256.000000</td>\n",
       "      <td>360.000000</td>\n",
       "      <td>750000.000000</td>\n",
       "      <td>545000.000000</td>\n",
       "      <td>408123.850000</td>\n",
       "    </tr>\n",
       "  </tbody>\n",
       "</table>\n",
       "</div>"
      ],
      "text/plain": [
       "               Price         Rooms         Areas     Bathrooms  \\\n",
       "count   81350.000000  81350.000000  81350.000000  81350.000000   \n",
       "mean   315448.252932      2.261930    101.037516      1.677357   \n",
       "std    156434.216393      0.969883     40.877139      0.909429   \n",
       "min     10000.000000      0.000000      5.000000      0.000000   \n",
       "25%    195000.000000      2.000000     72.000000      1.000000   \n",
       "50%    278000.000000      2.000000     96.000000      2.000000   \n",
       "75%    399900.000000      3.000000    124.000000      2.000000   \n",
       "max    800000.000000     10.000000    400.000000      4.000000   \n",
       "\n",
       "       Price_per_Square_Meter  Square_Meter_per_Room  \\\n",
       "count            81350.000000           81350.000000   \n",
       "mean              3378.611770              44.112587   \n",
       "std               1747.452319              16.869128   \n",
       "min                109.760000               0.000000   \n",
       "25%               2205.880000              35.800000   \n",
       "50%               2993.770000              43.000000   \n",
       "75%               4128.577500              51.500000   \n",
       "max              56000.000000             256.000000   \n",
       "\n",
       "       Square_Meter_per_Bathroom  Neighborhood_Encoded   City_Encoded  \\\n",
       "count               81350.000000          81350.000000   80943.000000   \n",
       "mean                   52.560266         315448.253024  315842.812253   \n",
       "std                    25.727120         100132.917686   86608.944048   \n",
       "min                     0.000000          17600.000000   23000.000000   \n",
       "25%                    41.050000         234044.130000  239283.240000   \n",
       "50%                    51.670000         302641.450000  331113.490000   \n",
       "75%                    65.090000         392713.330000  366452.560000   \n",
       "max                   360.000000         750000.000000  545000.000000   \n",
       "\n",
       "       State_Encoded  \n",
       "count   55071.000000  \n",
       "mean   298953.846133  \n",
       "std     48225.371988  \n",
       "min     98532.130000  \n",
       "25%    273228.830000  \n",
       "50%    307418.370000  \n",
       "75%    318629.790000  \n",
       "max    408123.850000  "
      ]
     },
     "execution_count": 8,
     "metadata": {},
     "output_type": "execute_result"
    }
   ],
   "source": [
    "df.describe()"
   ]
  },
  {
   "cell_type": "markdown",
   "metadata": {},
   "source": [
    "## Train & test Split"
   ]
  },
  {
   "cell_type": "code",
   "execution_count": 9,
   "metadata": {},
   "outputs": [
    {
     "name": "stdout",
     "output_type": "stream",
     "text": [
      "X_train shape: (56945, 9)\n",
      "X_test shape: (24405, 9)\n",
      "y_train shape: (56945,)\n",
      "y_test shape: (24405,)\n"
     ]
    }
   ],
   "source": [
    "from sklearn.model_selection import train_test_split\n",
    "\n",
    "# Define your features and target variable\n",
    "X = df.drop(columns=['Price', 'City_Encoded', 'State_Encoded', 'Neighborhood_Encoded', 'Areas', 'Rooms'])  \n",
    "y = df['Price']  # Assuming 'Price' is your target variable\n",
    "\n",
    "# Split the data into training and testing sets (e.g., 80% train, 20% test)\n",
    "X_train, X_test, y_train, y_test = train_test_split(X, y, test_size=0.3, random_state=42)\n",
    "\n",
    "# Display the shapes of the resulting sets to verify the split\n",
    "print(\"X_train shape:\", X_train.shape)\n",
    "print(\"X_test shape:\", X_test.shape)\n",
    "print(\"y_train shape:\", y_train.shape)\n",
    "print(\"y_test shape:\", y_test.shape)\n"
   ]
  },
  {
   "cell_type": "markdown",
   "metadata": {},
   "source": [
    "## Standarlazing the features"
   ]
  },
  {
   "cell_type": "code",
   "execution_count": 10,
   "metadata": {},
   "outputs": [],
   "source": [
    "from sklearn.preprocessing import StandardScaler\n",
    "\n",
    "# Initialize the scaler\n",
    "scaler = StandardScaler()\n",
    "\n",
    "# Scale the features\n",
    "X_train_scaled = scaler.fit_transform(X_train)\n",
    "X_test_scaled = scaler.transform(X_test)\n"
   ]
  },
  {
   "cell_type": "code",
   "execution_count": 11,
   "metadata": {},
   "outputs": [],
   "source": [
    "from sklearn.model_selection import train_test_split\n",
    "from sklearn.linear_model import LinearRegression\n",
    "\n",
    "# Create and train the linear regression model\n",
    "lm = LinearRegression()\n",
    "lm.fit(X_train_scaled, y_train)\n",
    "\n",
    "# Make predictions on the test set\n",
    "predictions = lm.predict(X_test_scaled)\n"
   ]
  },
  {
   "cell_type": "code",
   "execution_count": 12,
   "metadata": {},
   "outputs": [
    {
     "data": {
      "text/plain": [
       "{'MAE': 76567.49110398183,\n",
       " 'MSE': 10782517267.44354,\n",
       " 'RMSE': 103838.90055005177,\n",
       " 'R2': 0.5669084288192707}"
      ]
     },
     "execution_count": 12,
     "metadata": {},
     "output_type": "execute_result"
    }
   ],
   "source": [
    "import analysis\n",
    "\n",
    "# Call the analyze_precision function\n",
    "analysis.evaluate_model_performance(y_test, predictions)"
   ]
  },
  {
   "cell_type": "code",
   "execution_count": 13,
   "metadata": {},
   "outputs": [
    {
     "data": {
      "image/png": "[encoded data removed]",
      "text/plain": [
       "<Figure size 1200x600 with 1 Axes>"
      ]
     },
     "metadata": {},
     "output_type": "display_data"
    }
   ],
   "source": [
    "# Call the modified analyze_precision function\n",
    "analysis.analyze_precision(X_test, y_test, predictions)"
   ]
  },
  {
   "cell_type": "code",
   "execution_count": null,
   "metadata": {},
   "outputs": [],
   "source": []
  }
 ],
 "metadata": {
  "kernelspec": {
   "display_name": "gpu",
   "language": "python",
   "name": "python3"
  },
  "language_info": {
   "codemirror_mode": {
    "name": "ipython",
    "version": 3
   },
   "file_extension": ".py",
   "mimetype": "text/x-python",
   "name": "python",
   "nbconvert_exporter": "python",
   "pygments_lexer": "ipython3",
   "version": "3.8.17"
  },
  "orig_nbformat": 4
 },
 "nbformat": 4,
 "nbformat_minor": 2
}
