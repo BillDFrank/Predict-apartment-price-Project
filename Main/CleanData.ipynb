{
 "cells": [
  {
   "cell_type": "code",
   "execution_count": 14,
   "metadata": {},
   "outputs": [],
   "source": [
    "import pandas as pd\n",
    "from ConnectDB import *\n",
    "from geopy.geocoders import Nominatim\n",
    "from geopy.exc import GeocoderTimedOut\n",
    "import time\n"
   ]
  },
  {
   "cell_type": "code",
   "execution_count": null,
   "metadata": {},
   "outputs": [],
   "source": [
    "df = get_data(date_str='2025-02-02')\n",
    "df.info()"
   ]
  },
  {
   "cell_type": "code",
   "execution_count": null,
   "metadata": {},
   "outputs": [],
   "source": [
    "df.head(3)"
   ]
  },
  {
   "cell_type": "code",
   "execution_count": 7,
   "metadata": {},
   "outputs": [],
   "source": [
    "# 1. Remove rows where price is \"Preço sob consulta\"\n",
    "df = df[~df[\"price\"].str.contains(\"Preço sob consulta\", na=False)]\n",
    "\n",
    "# 2. Convert price to numeric (fixing non-breaking spaces)\n",
    "df[\"price\"] = (\n",
    "    df[\"price\"]\n",
    "    .str.replace(\"\\xa0\", \"\", regex=True)  # Remove non-breaking spaces\n",
    "    .str.replace(\"€\", \"\", regex=True)  # Remove euro symbol\n",
    "    .str.replace(\",\", \"\", regex=True)  # Remove thousand separators\n",
    "    .astype(float)\n",
    ")\n",
    "\n",
    "# 3. Split location into neighborhood, city, and state\n",
    "df[\"location\"] = df[\"location\"].fillna(\"\")  # Handle NaN values\n",
    "df[\"location_parts\"] = df[\"location\"].str.split(\",\")\n",
    "\n",
    "df[\"state\"] = df[\"location_parts\"].str[-1].str.strip()\n",
    "df[\"city\"] = df[\"location_parts\"].str[-2].str.strip()\n",
    "df[\"neighborhood\"] = df[\"location_parts\"].apply(lambda x: \", \".join(x[:-2]) if len(x) > 2 else \"\")\n",
    "\n",
    "df.drop(columns=[\"location_parts\"], inplace=True)  # Remove helper column\n",
    "\n",
    "# 4. Clean rooms column\n",
    "df[\"rooms\"] = df[\"rooms\"].str.extract(\"(\\d+)\").astype(float)\n",
    "\n",
    "# 5. Drop page and location column\n",
    "df.drop(columns=[\"page\", \"location\"], inplace=True)"
   ]
  },
  {
   "cell_type": "code",
   "execution_count": null,
   "metadata": {},
   "outputs": [],
   "source": [
    "df.head(3)"
   ]
  },
  {
   "cell_type": "code",
   "execution_count": null,
   "metadata": {},
   "outputs": [],
   "source": [
    "# Initialize geolocator\n",
    "geolocator = Nominatim(user_agent=\"imovirtual_scraper\")\n",
    "\n",
    "# Dictionary to cache geolocation results\n",
    "location_cache = {}\n",
    "\n",
    "def get_lat_lon(neighborhood, city, state):\n",
    "    address = f\"{neighborhood}, {city}, {state}, Portugal\"\n",
    "\n",
    "    if address in location_cache:  # Check if already cached\n",
    "        return location_cache[address]\n",
    "\n",
    "    try:\n",
    "        location = geolocator.geocode(address, timeout=10)\n",
    "        if location:\n",
    "            location_cache[address] = (location.latitude, location.longitude)\n",
    "        else:\n",
    "            location_cache[address] = (None, None)\n",
    "\n",
    "        time.sleep(1)  # Respect Nominatim rate limits (1 request/sec)\n",
    "        return location_cache[address]\n",
    "\n",
    "    except GeocoderTimedOut:\n",
    "        return (None, None)\n",
    "\n",
    "# Apply function only for unique locations\n",
    "df[['latitude', 'longitude']] = df.apply(lambda row: pd.Series(get_lat_lon(row['neighborhood'], row['city'], row['state'])), axis=1)\n",
    "\n",
    "# Save cache to a file (optional, useful for resuming)\n",
    "pd.DataFrame.from_dict(location_cache, orient=\"index\", columns=[\"latitude\", \"longitude\"]).to_csv(\"location_cache.csv\")"
   ]
  },
  {
   "cell_type": "code",
   "execution_count": null,
   "metadata": {},
   "outputs": [],
   "source": [
    "df.head(3)"
   ]
  },
  {
   "cell_type": "code",
   "execution_count": null,
   "metadata": {},
   "outputs": [],
   "source": []
  }
 ],
 "metadata": {
  "kernelspec": {
   "display_name": "imovirtual",
   "language": "python",
   "name": "python3"
  },
  "language_info": {
   "codemirror_mode": {
    "name": "ipython",
    "version": 3
   },
   "file_extension": ".py",
   "mimetype": "text/x-python",
   "name": "python",
   "nbconvert_exporter": "python",
   "pygments_lexer": "ipython3",
   "version": "3.11.11"
  }
 },
 "nbformat": 4,
 "nbformat_minor": 2
}
