{
 "cells": [
  {
   "cell_type": "code",
   "execution_count": 1,
   "metadata": {},
   "outputs": [],
   "source": [
    "from ScrapeData import *\n",
    "from ConnectDB import *\n",
    "import pandas as pd"
   ]
  },
  {
   "cell_type": "code",
   "execution_count": null,
   "metadata": {},
   "outputs": [
    {
     "name": "stdout",
     "output_type": "stream",
     "text": [
      "✅ Connected to Neon PostgreSQL Database successfully!\n",
      "🟢 Found 8012 records needing detail extraction. (Order: bottom)\n",
      "✅ Updated record 69025: Bathrooms=N/A, Year=N/A, Cert=N/A\n",
      "✅ Updated record 69002: Bathrooms=N/A, Year=N/A, Cert=N/A\n",
      "✅ Updated record 68939: Bathrooms=N/A, Year=N/A, Cert=N/A\n",
      "⚠️ Failed to retrieve details for record 68907. Status code: 410\n",
      "⚠️ Failed to retrieve details for record 68895. Status code: 410\n",
      "✅ Updated record 68688: Bathrooms=N/A, Year=N/A, Cert=N/A\n"
     ]
    }
   ],
   "source": [
    "#scrape_listings(1)\n",
    "scrape_details(order_by=\"bottom\")"
   ]
  },
  {
   "cell_type": "code",
   "execution_count": null,
   "metadata": {},
   "outputs": [],
   "source": []
  }
 ],
 "metadata": {
  "kernelspec": {
   "display_name": "gpu",
   "language": "python",
   "name": "python3"
  },
  "language_info": {
   "codemirror_mode": {
    "name": "ipython",
    "version": 3
   },
   "file_extension": ".py",
   "mimetype": "text/x-python",
   "name": "python",
   "nbconvert_exporter": "python",
   "pygments_lexer": "ipython3",
   "version": "3.8.17"
  }
 },
 "nbformat": 4,
 "nbformat_minor": 2
}
